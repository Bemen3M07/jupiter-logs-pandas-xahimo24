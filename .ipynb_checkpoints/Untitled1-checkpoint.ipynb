{
 "cells": [
  {
   "cell_type": "code",
   "execution_count": 1,
   "id": "fff03e46-e83c-4592-8cb3-a7809c37be30",
   "metadata": {},
   "outputs": [
    {
     "name": "stdout",
     "output_type": "stream",
     "text": [
      "2024-11-19 19:56:31 - Examplefichero - DEBUG - debug mensaje cada dos segundos\n",
      "2024-11-19 19:56:31 - Examplefichero - INFO - debug mensaje cada dos segundos\n",
      "2024-11-19 19:56:33 - Examplefichero - DEBUG - debug mensaje cada dos segundos\n",
      "2024-11-19 19:56:33 - Examplefichero - INFO - debug mensaje cada dos segundos\n",
      "2024-11-19 19:56:35 - Examplefichero - DEBUG - debug mensaje cada dos segundos\n",
      "2024-11-19 19:56:35 - Examplefichero - INFO - debug mensaje cada dos segundos\n",
      "2024-11-19 19:56:37 - Examplefichero - DEBUG - debug mensaje cada dos segundos\n",
      "2024-11-19 19:56:37 - Examplefichero - INFO - debug mensaje cada dos segundos\n",
      "2024-11-19 19:56:39 - Examplefichero - DEBUG - debug mensaje cada dos segundos\n",
      "2024-11-19 19:56:39 - Examplefichero - INFO - debug mensaje cada dos segundos\n",
      "2024-11-19 19:56:41 - Examplefichero - DEBUG - debug mensaje cada dos segundos\n",
      "2024-11-19 19:56:41 - Examplefichero - INFO - debug mensaje cada dos segundos\n",
      "2024-11-19 19:56:43 - Examplefichero - DEBUG - debug mensaje cada dos segundos\n",
      "2024-11-19 19:56:43 - Examplefichero - INFO - debug mensaje cada dos segundos\n",
      "2024-11-19 19:56:45 - Examplefichero - DEBUG - debug mensaje cada dos segundos\n",
      "2024-11-19 19:56:45 - Examplefichero - INFO - debug mensaje cada dos segundos\n",
      "2024-11-19 19:56:47 - Examplefichero - DEBUG - debug mensaje cada dos segundos\n",
      "2024-11-19 19:56:47 - Examplefichero - INFO - debug mensaje cada dos segundos\n",
      "2024-11-19 19:56:49 - Examplefichero - DEBUG - debug mensaje cada dos segundos\n",
      "2024-11-19 19:56:49 - Examplefichero - INFO - debug mensaje cada dos segundos\n",
      "2024-11-19 19:56:51 - Examplefichero - DEBUG - debug mensaje cada dos segundos\n",
      "2024-11-19 19:56:51 - Examplefichero - INFO - debug mensaje cada dos segundos\n"
     ]
    },
    {
     "ename": "KeyboardInterrupt",
     "evalue": "",
     "output_type": "error",
     "traceback": [
      "\u001b[0;31m---------------------------------------------------------------------------\u001b[0m",
      "\u001b[0;31mKeyboardInterrupt\u001b[0m                         Traceback (most recent call last)",
      "Cell \u001b[0;32mIn[1], line 13\u001b[0m\n\u001b[1;32m     11\u001b[0m logger\u001b[38;5;241m.\u001b[39mdebug(\u001b[38;5;124m'\u001b[39m\u001b[38;5;124mdebug mensaje cada dos segundos\u001b[39m\u001b[38;5;124m'\u001b[39m)\n\u001b[1;32m     12\u001b[0m logger\u001b[38;5;241m.\u001b[39minfo(\u001b[38;5;124m'\u001b[39m\u001b[38;5;124mdebug mensaje cada dos segundos\u001b[39m\u001b[38;5;124m'\u001b[39m)\n\u001b[0;32m---> 13\u001b[0m \u001b[43mtime\u001b[49m\u001b[38;5;241;43m.\u001b[39;49m\u001b[43msleep\u001b[49m\u001b[43m(\u001b[49m\u001b[38;5;241;43m2\u001b[39;49m\u001b[43m)\u001b[49m \u001b[38;5;66;03m#Pausa de 2 segundos\u001b[39;00m\n",
      "\u001b[0;31mKeyboardInterrupt\u001b[0m: "
     ]
    }
   ],
   "source": [
    "import logging\n",
    "import logging.config\n",
    "import time\n",
    " \n",
    "logging.config.fileConfig('logging.conf')\n",
    "\n",
    "# crer logger\n",
    "logger = logging.getLogger('Examplefichero')\n",
    "\n",
    "while True:\n",
    "    logger.debug('debug mensaje cada dos segundos')\n",
    "    logger.info('debug mensaje cada dos segundos')\n",
    "    time.sleep(2) #Pausa de 2 segundos"
   ]
  },
  {
   "cell_type": "code",
   "execution_count": null,
   "id": "30c3a6c1-2c79-4670-b701-8a7b6f930278",
   "metadata": {},
   "outputs": [],
   "source": []
  }
 ],
 "metadata": {
  "kernelspec": {
   "display_name": "Python 3 (ipykernel)",
   "language": "python",
   "name": "python3"
  },
  "language_info": {
   "codemirror_mode": {
    "name": "ipython",
    "version": 3
   },
   "file_extension": ".py",
   "mimetype": "text/x-python",
   "name": "python",
   "nbconvert_exporter": "python",
   "pygments_lexer": "ipython3",
   "version": "3.12.1"
  }
 },
 "nbformat": 4,
 "nbformat_minor": 5
}
