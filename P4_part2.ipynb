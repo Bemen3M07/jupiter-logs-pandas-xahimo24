{
 "cells": [
  {
   "cell_type": "markdown",
   "id": "e457e356-68bf-46c4-a815-0512c1634109",
   "metadata": {},
   "source": [
    "# P4 2/2\n",
    "## Exercici 1\n",
    "Explica quines comandes de Linux Pots fer servir a l’hora d’analitzar logs escrits a fitxer per a:\n",
    "- Veure contínuament els logs que es van escrivint a un arxiu"
   ]
  },
  {
   "cell_type": "markdown",
   "id": "680154a1-370c-4d78-95a3-0984c4db10f6",
   "metadata": {},
   "source": [
    "tail -f /ruta/a/teu/arxiu.log"
   ]
  },
  {
   "cell_type": "markdown",
   "id": "dd34c2a1-e9b5-455d-a361-b5b0f532a7b2",
   "metadata": {},
   "source": [
    "Aquesta comanda mostrarà les últimes línies de l'arxiu i, a mesura que es vagi afegint nova informació, es mostrarà automàticament al terminal. És útil per a seguir logs en temps real mentre es produeixen noves escriptures."
   ]
  },
  {
   "cell_type": "markdown",
   "id": "0f703777-3e9c-41e3-bab4-4087974fc021",
   "metadata": {},
   "source": [
    "- Cercar una paraula concreta dintre d’un arxiu de log"
   ]
  },
  {
   "cell_type": "markdown",
   "id": "0546d5fb-6f99-4c17-9fc3-c1d083a59baf",
   "metadata": {},
   "source": [
    "grep \"error\" /ruta/a/teu/arxiu.log"
   ]
  },
  {
   "cell_type": "markdown",
   "id": "a9270173-41ed-4350-aeb9-0787b712c9a0",
   "metadata": {},
   "source": [
    "Per cercar una paraula o una cadena de text dins d'un fitxer de log, pots fer servir la comanda grep. Aquesta comanda busca una cadena de text dins d'un fitxer i mostra les línies que la contenen. "
   ]
  },
  {
   "cell_type": "markdown",
   "id": "8372bdae-f7ac-4452-b0e2-25e6c395a9d2",
   "metadata": {},
   "source": [
    "## Exercici 2\n",
    "El concepte logging és molt important en la programació, alhora que està estrictament relacionat amb el tema que estem treballant. Un log en el nostre àmbit vindria a ser un fitxer que conté dades relacionades amb els principals esdeveniments i successos que ocorren en un programa o en un sistema operatiu, així doncs, ja sigui per saber en quin punt hem tingut un error, perquè l'execució del programa no ha anat bé, o quina sèrie de passes ha seguit una persona mentre utilitzava la nostra aplicació i moltes altres utilitats, els Logs són vitals al món del software.\n",
    "\n",
    "1. En aquest exercici recuperarem el bucle d’exemple que vam fer servir a les sessions de teoria, i configurarem el log per què  els misstatges d’error (isuperiors) vagin a un arxiu, i els missatges d’info (i superiors) vagin a un altre arxiu, mentre que tots els missatges es mostren a la vegada per pantalla. A més, afegirem un nou missatge d’info a l’aplicació  pel que farem servir un logger especial i diferent del que ja hem fet servir, i que tindrà un manegador amb format csv.  Fes commit al repositori cada vegada que tinguis resolt i funcionant una d’aquestes coses:\n",
    "    - logs d’info a fitxer de logs d’info i logs d’error a fitxer de logs d’error\n",
    "    - Afegir, a mes del handler de fitxer per a fitxers info, un handler de pantalla amb nivell info\n",
    "    - Afegir un nou logger amb un nou manegador i un nou formatador a CSV, i afegir una línia al programa que generi aquests logs\n",
    "    - Pujar al repositori una mostra d’unes 20 linies dels fitxers de logs generats per la vostra aplicació: un d’info, un d’error, i un en format CSV"
   ]
  },
  {
   "cell_type": "code",
   "execution_count": 2,
   "id": "3a731f98-285a-40a4-bbc1-1c76eb0c7941",
   "metadata": {},
   "outputs": [
    {
     "name": "stdout",
     "output_type": "stream",
     "text": [
      "2024-11-26 19:41:59 - ExempleFichero - INFO - Info message cada dos segons\n",
      "2024-11-26 19:41:59 - ExempleFichero - ERROR - Error message cada dos segons\n",
      "2024-11-26 19:41:59 - CSVLogger - INFO - Info message en CSV\n",
      "2024-11-26 19:42:01 - ExempleFichero - INFO - Info message cada dos segons\n",
      "2024-11-26 19:42:01 - ExempleFichero - ERROR - Error message cada dos segons\n",
      "2024-11-26 19:42:01 - CSVLogger - INFO - Info message en CSV\n",
      "2024-11-26 19:42:03 - ExempleFichero - INFO - Info message cada dos segons\n",
      "2024-11-26 19:42:03 - ExempleFichero - ERROR - Error message cada dos segons\n",
      "2024-11-26 19:42:03 - CSVLogger - INFO - Info message en CSV\n",
      "2024-11-26 19:42:05 - ExempleFichero - INFO - Info message cada dos segons\n",
      "2024-11-26 19:42:05 - ExempleFichero - ERROR - Error message cada dos segons\n",
      "2024-11-26 19:42:05 - CSVLogger - INFO - Info message en CSV\n",
      "2024-11-26 19:42:07 - ExempleFichero - INFO - Info message cada dos segons\n",
      "2024-11-26 19:42:07 - ExempleFichero - ERROR - Error message cada dos segons\n",
      "2024-11-26 19:42:07 - CSVLogger - INFO - Info message en CSV\n",
      "2024-11-26 19:42:09 - ExempleFichero - INFO - Info message cada dos segons\n",
      "2024-11-26 19:42:09 - ExempleFichero - ERROR - Error message cada dos segons\n",
      "2024-11-26 19:42:09 - CSVLogger - INFO - Info message en CSV\n",
      "2024-11-26 19:42:11 - ExempleFichero - INFO - Info message cada dos segons\n",
      "2024-11-26 19:42:11 - ExempleFichero - ERROR - Error message cada dos segons\n",
      "2024-11-26 19:42:11 - CSVLogger - INFO - Info message en CSV\n",
      "2024-11-26 19:42:13 - ExempleFichero - INFO - Info message cada dos segons\n",
      "2024-11-26 19:42:13 - ExempleFichero - ERROR - Error message cada dos segons\n",
      "2024-11-26 19:42:13 - CSVLogger - INFO - Info message en CSV\n",
      "2024-11-26 19:42:15 - ExempleFichero - INFO - Info message cada dos segons\n",
      "2024-11-26 19:42:15 - ExempleFichero - ERROR - Error message cada dos segons\n",
      "2024-11-26 19:42:15 - CSVLogger - INFO - Info message en CSV\n",
      "2024-11-26 19:42:17 - ExempleFichero - INFO - Info message cada dos segons\n",
      "2024-11-26 19:42:17 - ExempleFichero - ERROR - Error message cada dos segons\n",
      "2024-11-26 19:42:17 - CSVLogger - INFO - Info message en CSV\n",
      "2024-11-26 19:42:19 - ExempleFichero - INFO - Info message cada dos segons\n",
      "2024-11-26 19:42:19 - ExempleFichero - ERROR - Error message cada dos segons\n",
      "2024-11-26 19:42:19 - CSVLogger - INFO - Info message en CSV\n",
      "2024-11-26 19:42:21 - ExempleFichero - INFO - Info message cada dos segons\n",
      "2024-11-26 19:42:21 - ExempleFichero - ERROR - Error message cada dos segons\n",
      "2024-11-26 19:42:21 - CSVLogger - INFO - Info message en CSV\n",
      "2024-11-26 19:42:23 - ExempleFichero - INFO - Info message cada dos segons\n",
      "2024-11-26 19:42:23 - ExempleFichero - ERROR - Error message cada dos segons\n",
      "2024-11-26 19:42:23 - CSVLogger - INFO - Info message en CSV\n"
     ]
    },
    {
     "ename": "KeyboardInterrupt",
     "evalue": "",
     "output_type": "error",
     "traceback": [
      "\u001b[0;31m---------------------------------------------------------------------------\u001b[0m",
      "\u001b[0;31mKeyboardInterrupt\u001b[0m                         Traceback (most recent call last)",
      "Cell \u001b[0;32mIn[2], line 31\u001b[0m\n\u001b[1;32m     28\u001b[0m \u001b[38;5;66;03m# Afegir un log en format CSV\u001b[39;00m\n\u001b[1;32m     29\u001b[0m csv_logger\u001b[38;5;241m.\u001b[39minfo(\u001b[38;5;124m'\u001b[39m\u001b[38;5;124mInfo message en CSV\u001b[39m\u001b[38;5;124m'\u001b[39m)\n\u001b[0;32m---> 31\u001b[0m \u001b[43mtime\u001b[49m\u001b[38;5;241;43m.\u001b[39;49m\u001b[43msleep\u001b[49m\u001b[43m(\u001b[49m\u001b[38;5;241;43m2\u001b[39;49m\u001b[43m)\u001b[49m  \u001b[38;5;66;03m# Pausa de 2 segons\u001b[39;00m\n",
      "\u001b[0;31mKeyboardInterrupt\u001b[0m: "
     ]
    }
   ],
   "source": [
    "import logging\n",
    "import logging.config\n",
    "import time\n",
    "import csv\n",
    "\n",
    "# Configuració del log\n",
    "logging.config.fileConfig('logging.conf')\n",
    "\n",
    "# Logger per als missatges d'error i d'informació\n",
    "logger = logging.getLogger('ExempleFichero')\n",
    "\n",
    "# Logger per als logs en CSV\n",
    "csv_logger = logging.getLogger('CSVLogger')\n",
    "\n",
    "# Configuració del nou logger per CSV\n",
    "csv_handler = logging.FileHandler('log_csv.csv', mode='a')\n",
    "csv_formatter = logging.Formatter('%(asctime)s,%(name)s,%(levelname)s,%(message)s')\n",
    "csv_handler.setFormatter(csv_formatter)\n",
    "csv_logger.addHandler(csv_handler)\n",
    "csv_logger.setLevel(logging.INFO)\n",
    "\n",
    "# Mentre l'aplicació estigui en execució\n",
    "while True:\n",
    "    logger.debug('Debug message cada dos segons')\n",
    "    logger.info('Info message cada dos segons')\n",
    "    logger.error('Error message cada dos segons')\n",
    "\n",
    "    # Afegir un log en format CSV\n",
    "    csv_logger.info('Info message en CSV')\n",
    "\n",
    "    time.sleep(2)  # Pausa de 2 segons\n"
   ]
  },
  {
   "cell_type": "markdown",
   "id": "916bc10e-4487-46a9-b555-d286f5c24dda",
   "metadata": {},
   "source": [
    "2. Que creieu que és millor mostrar els logs per exemple a la terminal durant l'execució del programa o bolcar-los en un fitxer de text?\n",
    "\n",
    "   Em decantaria per bolcar els logs en un fitxer de text.\n",
    "   Raons per triar aquesta opció:\n",
    "\n",
    "   Persistència i anàlisi futura: Els logs en un fitxer ofereixen la possibilitat de conservar la informació després que el programa acabi la seva execució. Això és\n",
    "   essencial per a auditories, diagnòstics posteriors o fins i tot per depurar problemes que es presentin en un entorn de producció.\n",
    "\n",
    "   Flexibilitat per processar els logs: Pots utilitzar eines com grep, awk o fins i tot scripts personalitzats per analitzar els fitxers de log, cercar patrons o\n",
    "   generar informes, el que fa que la gestió de logs sigui més potent a llarg termini.\n",
    "   Tot i que veure els logs en la terminal és útil a curt termini, el fet de tenir els logs emmagatzemats en un fitxer et permet conservar-los per a qualsevol\n",
    "   necessitat futura, cosa que és fonamental per a la seguretat i el manteniment de l'aplicació."
   ]
  },
  {
   "cell_type": "markdown",
   "id": "593d5dbe-7892-47e0-b4ed-4dd92a410e00",
   "metadata": {},
   "source": [
    "3. Omple la següent taula amb expmple, avantantges, i desavantatges de les següents maneres de fer logs:\n"
   ]
  },
  {
   "cell_type": "code",
   "execution_count": null,
   "id": "e2bf826c-694c-4e3f-b189-aa95c46e38ea",
   "metadata": {},
   "outputs": [],
   "source": []
  }
 ],
 "metadata": {
  "kernelspec": {
   "display_name": "Python 3 (ipykernel)",
   "language": "python",
   "name": "python3"
  },
  "language_info": {
   "codemirror_mode": {
    "name": "ipython",
    "version": 3
   },
   "file_extension": ".py",
   "mimetype": "text/x-python",
   "name": "python",
   "nbconvert_exporter": "python",
   "pygments_lexer": "ipython3",
   "version": "3.12.1"
  }
 },
 "nbformat": 4,
 "nbformat_minor": 5
}
