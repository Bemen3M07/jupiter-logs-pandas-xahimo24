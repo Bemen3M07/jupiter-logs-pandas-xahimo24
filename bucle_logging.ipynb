{
 "cells": [
  {
   "cell_type": "code",
   "execution_count": null,
   "id": "fff03e46-e83c-4592-8cb3-a7809c37be30",
   "metadata": {},
   "outputs": [],
   "source": [
    "import logging\n",
    "import logging.config\n",
    "import time\n",
    " \n",
    "logging.config.fileConfig('logging.conf')\n",
    "\n",
    "# crer logger\n",
    "logger = logging.getLogger('Exemplefichero')\n",
    "\n",
    "while True:\n",
    "    logger.debug('debug mensaje cada dos segundos')\n",
    "    logger.info('debug mensaje cada dos segundos')\n",
    "    time.sleep(2) #Pausa de 2 segundos"
   ]
  },
  {
   "cell_type": "code",
   "execution_count": null,
   "id": "e8710d0f-fe9b-4f45-9dbe-e21625a5edbf",
   "metadata": {},
   "outputs": [],
   "source": []
  }
 ],
 "metadata": {
  "kernelspec": {
   "display_name": "Python 3 (ipykernel)",
   "language": "python",
   "name": "python3"
  },
  "language_info": {
   "codemirror_mode": {
    "name": "ipython",
    "version": 3
   },
   "file_extension": ".py",
   "mimetype": "text/x-python",
   "name": "python",
   "nbconvert_exporter": "python",
   "pygments_lexer": "ipython3",
   "version": "3.12.1"
  }
 },
 "nbformat": 4,
 "nbformat_minor": 5
}
